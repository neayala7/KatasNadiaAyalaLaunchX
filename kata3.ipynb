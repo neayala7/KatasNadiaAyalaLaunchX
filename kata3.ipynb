{
 "cells": [
  {
   "cell_type": "code",
   "execution_count": 3,
   "metadata": {},
   "outputs": [
    {
     "name": "stdout",
     "output_type": "stream",
     "text": [
      "El asteroide se acerca a la Tierra demasiado rápido\n"
     ]
    }
   ],
   "source": [
    "velocidad = 49 \n",
    "if velocidad >= 25:\n",
    "    print('El asteroide se acerca a la Tierra demasiado rápido')"
   ]
  },
  {
   "cell_type": "code",
   "execution_count": 4,
   "metadata": {},
   "outputs": [
    {
     "name": "stdout",
     "output_type": "stream",
     "text": [
      "No hay peligro y nada que ver por el momento\n"
     ]
    }
   ],
   "source": [
    "velocidad = 19 \n",
    "if velocidad >=25:\n",
    "    print ('El asteroide se acerca a la Tierra demasiado rápido')\n",
    "elif velocidad >= 20:\n",
    "    print('Debes buscar un asteroide en el cielo; se aproxima a la tierra')\n",
    "else: \n",
    "    print('No hay peligro y nada que ver por el momento')"
   ]
  },
  {
   "cell_type": "code",
   "execution_count": 7,
   "metadata": {},
   "outputs": [
    {
     "name": "stdout",
     "output_type": "stream",
     "text": [
      "No hay peligro en la Tierra\n",
      "Observa en la atmosfera un asteroide se acerca a la Tierra\n"
     ]
    }
   ],
   "source": [
    "velocidad = 21\n",
    "dimension = 10\n",
    "\n",
    "if dimension<25 and velocidad <25:\n",
    "    print('No hay peligro en la Tierra')\n",
    "    if velocidad>=20 and dimension<25:\n",
    "        print('Observa en la atmosfera un asteroide se acerca a la Tierra')\n",
    "elif dimension>25 or dimension<1000 and velocidad>=25:\n",
    "    print('Estamos en problemas debes ir a los bunkers secretos')\n",
    "else:\n",
    "    print ('No hay novedad')"
   ]
  }
 ],
 "metadata": {
  "interpreter": {
   "hash": "2737e7de41cac93f1e3a1e916715067bdc124494ccef10651fffbe89c6530b06"
  },
  "kernelspec": {
   "display_name": "Python 3.9.5 64-bit",
   "language": "python",
   "name": "python3"
  },
  "language_info": {
   "codemirror_mode": {
    "name": "ipython",
    "version": 3
   },
   "file_extension": ".py",
   "mimetype": "text/x-python",
   "name": "python",
   "nbconvert_exporter": "python",
   "pygments_lexer": "ipython3",
   "version": "3.9.5"
  },
  "orig_nbformat": 4
 },
 "nbformat": 4,
 "nbformat_minor": 2
}
