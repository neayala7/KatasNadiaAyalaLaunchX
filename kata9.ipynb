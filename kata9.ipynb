{
 "cells": [
  {
   "cell_type": "markdown",
   "metadata": {},
   "source": [
    "## Ejercicio 1 Funciones \n",
    "\n",
    "Trabajar con argumentos "
   ]
  },
  {
   "cell_type": "code",
   "execution_count": 2,
   "metadata": {},
   "outputs": [],
   "source": [
    "def reporte(tanque1, tanque2, tanque3):\n",
    "    total = (tanque1 + tanque2 + tanque3) / 3\n",
    "    return f\"\"\"Reporte de combustible:\n",
    "    Promedio: {total}%\n",
    "    Tanque 1: {tanque1}%\n",
    "    Tanque 2: {tanque2}%\n",
    "    Tanque 3: {tanque3}% \n",
    "    \"\"\""
   ]
  },
  {
   "cell_type": "code",
   "execution_count": 3,
   "metadata": {},
   "outputs": [
    {
     "name": "stdout",
     "output_type": "stream",
     "text": [
      "Reporte de combustible:\n",
      "    Promedio: 78.33333333333333%\n",
      "    Tanque 1: 80%\n",
      "    Tanque 2: 70%\n",
      "    Tanque 3: 85% \n",
      "    \n"
     ]
    }
   ],
   "source": [
    "print(reporte( 80, 70, 85))"
   ]
  },
  {
   "cell_type": "code",
   "execution_count": 4,
   "metadata": {},
   "outputs": [
    {
     "data": {
      "text/plain": [
       "82.0"
      ]
     },
     "execution_count": 4,
     "metadata": {},
     "output_type": "execute_result"
    }
   ],
   "source": [
    "def promedio(valores):\n",
    "    total = sum(valores)\n",
    "    elementos = len(valores)\n",
    "    return total / elementos\n",
    "promedio([80,85,81])"
   ]
  },
  {
   "cell_type": "code",
   "execution_count": 5,
   "metadata": {},
   "outputs": [
    {
     "name": "stdout",
     "output_type": "stream",
     "text": [
      "Reporte de combustible:\n",
      "    Promedio: 75.33333333333333%\n",
      "    Tanque 1: 80%\n",
      "    Tanque 2: 76%\n",
      "    Tanque 3: 70% \n",
      "    \n"
     ]
    }
   ],
   "source": [
    "def reporte(tanque1, tanque2, tanque3):\n",
    "    return f\"\"\"Reporte de combustible:\n",
    "    Promedio: {promedio([tanque1, tanque2, tanque3])}%\n",
    "    Tanque 1: {tanque1}%\n",
    "    Tanque 2: {tanque2}%\n",
    "    Tanque 3: {tanque3}% \n",
    "    \"\"\"\n",
    "print(reporte(80, 76, 70))"
   ]
  },
  {
   "cell_type": "markdown",
   "metadata": {},
   "source": [
    "## EJERCICIO 2"
   ]
  },
  {
   "cell_type": "code",
   "execution_count": 7,
   "metadata": {},
   "outputs": [
    {
     "name": "stdout",
     "output_type": "stream",
     "text": [
      "\n",
      "    Mision a: Luna\n",
      "    Tiempo total de viaje: 65 minutos\n",
      "    Combustible restante: 500000 galones\n",
      "    \n"
     ]
    }
   ],
   "source": [
    "def reporte(prelanzamiento, tiempov, destino, tanque1, tanque2):\n",
    "    return f\"\"\"\n",
    "    Mision a: {destino}\n",
    "    Tiempo total de viaje: {prelanzamiento + tiempov} minutos\n",
    "    Combustible restante: {tanque1 + tanque2} galones\n",
    "    \"\"\"\n",
    "\n",
    "print(reporte(14, 51, \"Luna\", 200000, 300000))"
   ]
  },
  {
   "cell_type": "code",
   "execution_count": 8,
   "metadata": {},
   "outputs": [
    {
     "name": "stdout",
     "output_type": "stream",
     "text": [
      "\n",
      "    Mision a: Luna\n",
      "    Tiempo total de viaje: 76 minutos\n",
      "    Conbustible restante: 500000\n",
      "    \n"
     ]
    }
   ],
   "source": [
    "def reporte(destino, *minutos, **reserva):\n",
    "    return f\"\"\"\n",
    "    Mision a: {destino}\n",
    "    Tiempo total de viaje: {sum(minutos)} minutos\n",
    "    Conbustible restante: {sum(reserva.values())}\n",
    "    \"\"\"\n",
    "\n",
    "print(reporte(\"Luna\", 10, 15, 51, tanque1=300000, tanque2=200000))"
   ]
  },
  {
   "cell_type": "code",
   "execution_count": 9,
   "metadata": {},
   "outputs": [
    {
     "name": "stdout",
     "output_type": "stream",
     "text": [
      "\n",
      "    Mision a: Luna\n",
      "    Tiempo total de viaje: 74 minutos\n",
      "    Combustible restante: 500000\n",
      "    tanque1 tanque --> 300000 galones restantes\n",
      "tanque2 tanque --> 200000 galones restantes\n",
      "\n"
     ]
    }
   ],
   "source": [
    "def reporte(destino, *minutos, **reserva):\n",
    "    inicio_reporte = f\"\"\"\n",
    "    Mision a: {destino}\n",
    "    Tiempo total de viaje: {sum(minutos)} minutos\n",
    "    Combustible restante: {sum(reserva.values())}\n",
    "    \"\"\"\n",
    "    for nombre_tanque, galones in reserva.items():\n",
    "        inicio_reporte += f\"{nombre_tanque} tanque --> {galones} galones restantes\\n\"\n",
    "    return inicio_reporte\n",
    "\n",
    "print(reporte(\"Luna\", 8, 11, 55, tanque1=300000, tanque2=200000))"
   ]
  }
 ],
 "metadata": {
  "interpreter": {
   "hash": "2737e7de41cac93f1e3a1e916715067bdc124494ccef10651fffbe89c6530b06"
  },
  "kernelspec": {
   "display_name": "Python 3.9.5 64-bit",
   "language": "python",
   "name": "python3"
  },
  "language_info": {
   "codemirror_mode": {
    "name": "ipython",
    "version": 3
   },
   "file_extension": ".py",
   "mimetype": "text/x-python",
   "name": "python",
   "nbconvert_exporter": "python",
   "pygments_lexer": "ipython3",
   "version": "3.9.5"
  },
  "orig_nbformat": 4
 },
 "nbformat": 4,
 "nbformat_minor": 2
}
